{
 "cells": [
  {
   "cell_type": "markdown",
   "metadata": {},
   "source": [
    "Features to use:\n",
    "    \n",
    "   - genome length\n",
    "   - number of rRNA operons\n",
    "   - PFAM\n",
    "   - TIGRFAMS\n",
    "   \n",
    "I am not going to use EC number because they are redundant with PFAM and TIGRFAM."
   ]
  },
  {
   "cell_type": "code",
   "execution_count": 27,
   "metadata": {
    "collapsed": false
   },
   "outputs": [
    {
     "name": "stdout",
     "output_type": "stream",
     "text": [
      "605\n",
      "['mycobacterium abscessus', 'mycobacterium chubuense', 'mycobacterium fortuitum', 'mycobacterium gilvum', 'mycobacterium hassiacum', 'mycobacterium marinum', 'mycobacterium neoaurum', 'mycobacterium novocastrense', 'mycobacterium obuense', 'mycobacterium rhodesiae', 'mycobacterium simiae', 'mycobacterium thermoresistibile', 'mycobacterium vanbaalenii']\n"
     ]
    }
   ],
   "source": [
    "import os\n",
    "import re\n",
    "\n",
    "uniprotDir = './data/uniprotFiles/'\n",
    "genomeDir = './data/genomeFiles/'\n",
    "organisms = [x[:-4] for x in os.listdir(uniprotDir)]\n",
    "print len(organisms)\n",
    "myco_org = [x for x in organisms if \"ycobac\" in x]\n",
    "print myco_org"
   ]
  },
  {
   "cell_type": "code",
   "execution_count": 4,
   "metadata": {
    "collapsed": false
   },
   "outputs": [],
   "source": [
    "# Testing \n",
    "org = \"achromobacter xylosoxidans\"\n",
    "proteins = open(uniprotDir + org + '.txt').read()\n",
    "t = re.findall(r'(TIGR\\d+?);',proteins)\n",
    "p = re.findall(r'(PF\\d+?);',proteins)\n",
    "\n"
   ]
  },
  {
   "cell_type": "markdown",
   "metadata": {},
   "source": [
    "### Extracting families"
   ]
  },
  {
   "cell_type": "code",
   "execution_count": 28,
   "metadata": {
    "collapsed": false
   },
   "outputs": [],
   "source": [
    "data = {x : {\"functions\" : [], \"16S\" : 0, \"genomeLength\" : 0} for x in organisms}\n",
    "\n",
    "for f in os.listdir(uniprotDir):\n",
    "#     print f\n",
    "    uniprotFile = open(uniprotDir + f).read()\n",
    "#     data[f[:-4]][\"functions\"] = data[f[:-4]][\"functions\"] + (re.findall(r'(TIGR\\d\\d\\d\\d\\d);', uniprotFile))\n",
    "    data[f[:-4]][\"functions\"] = data[f[:-4]][\"functions\"] + (re.findall(r'(PF\\d\\d\\d\\d\\d);', uniprotFile))"
   ]
  },
  {
   "cell_type": "markdown",
   "metadata": {},
   "source": [
    "### Extracting genome length and 16S operons"
   ]
  },
  {
   "cell_type": "code",
   "execution_count": 23,
   "metadata": {
    "collapsed": false
   },
   "outputs": [
    {
     "name": "stdout",
     "output_type": "stream",
     "text": [
      "2\n"
     ]
    }
   ],
   "source": [
    "# Testing \n",
    "org = \"mycobacterium gilvum\"\n",
    "proteins = open(genomeDir + org + '.gpff').read()\n",
    "l = re.findall(r'LOCUS.+?(\\d+) bp',proteins)\n",
    "r = re.findall(r'rRNA  [\\s\\S\\w\\W]+?/product=\"([^\"]+)',proteins)\n",
    "r16 = len([x for x in r if \"16\" in x])\n",
    "print r16\n",
    "\n"
   ]
  },
  {
   "cell_type": "code",
   "execution_count": 29,
   "metadata": {
    "collapsed": false
   },
   "outputs": [
    {
     "name": "stdout",
     "output_type": "stream",
     "text": [
      "\tno 16S\n",
      "\tno 16S\n",
      "\tno 16S\n",
      "\tno 16S\n",
      "\tno 16S\n",
      "\tno 16S\n",
      "\tno 16S\n",
      "\tno 16S\n",
      "\tno 16S\n",
      "[5, 2, 1, 3, 6, 4, 8, 7, 9, 10, 15, 64]\n"
     ]
    }
   ],
   "source": [
    "noRNA = []\n",
    "numRNA = []\n",
    "\n",
    "for f in organisms:\n",
    "#     print f\n",
    "    genomeFile = open(genomeDir + f + '.gpff').read()\n",
    "#     print genomeDir + f + '.gpff'\n",
    "    data[f][\"genomeLength\"] = sum([int(x) for x in re.findall(r'LOCUS.+?(\\d+) bp',genomeFile)])\n",
    "#     print re.findall(r'rRNA  [\\s\\S\\w\\W]+?/product=\"([^\"]+)',genomeFile)\n",
    "    rRNA = len([x for x in re.findall(r'rRNA  [\\s\\S\\w\\W]+?/product=\"([^\"]+)',genomeFile) if \"16\" in x])\n",
    "    if rRNA:\n",
    "        data[f][\"16S\"] = rRNA\n",
    "        if not rRNA in numRNA:\n",
    "            numRNA.append(rRNA)\n",
    "\n",
    "    else:\n",
    "        print \"\\tno 16S\"\n",
    "        noRNA.append(f)\n",
    "\n",
    "    \n",
    "print numRNA  "
   ]
  },
  {
   "cell_type": "code",
   "execution_count": 30,
   "metadata": {
    "collapsed": false
   },
   "outputs": [
    {
     "name": "stdout",
     "output_type": "stream",
     "text": [
      "9\n"
     ]
    }
   ],
   "source": [
    "print len(noRNA)\n",
    "with open('wrongGenome.txt', 'w') as f:\n",
    "    f.write('\\n'.join(noRNA))"
   ]
  },
  {
   "cell_type": "markdown",
   "metadata": {},
   "source": [
    "### Formatting data"
   ]
  },
  {
   "cell_type": "code",
   "execution_count": 31,
   "metadata": {
    "collapsed": false
   },
   "outputs": [
    {
     "name": "stdout",
     "output_type": "stream",
     "text": [
      "14616\n"
     ]
    }
   ],
   "source": [
    "features = set()\n",
    "for o in data.keys():\n",
    "    if len(data[o][\"functions\"]) > 1:\n",
    "        features = features.union(set(data[o][\"functions\"]))\n",
    "\n",
    "print len(features)"
   ]
  },
  {
   "cell_type": "code",
   "execution_count": 32,
   "metadata": {
    "collapsed": false
   },
   "outputs": [],
   "source": [
    "features = sorted(features)\n",
    "organisms = sorted(organisms)"
   ]
  },
  {
   "cell_type": "code",
   "execution_count": 33,
   "metadata": {
    "collapsed": true
   },
   "outputs": [],
   "source": [
    "featuresInd = {}\n",
    "organismsInd = {}\n",
    "for i in range(len(features)):\n",
    "    featuresInd[features[i]] = i\n",
    "\n",
    "for j in range(len(organismsInd)):\n",
    "    organismsInd[organisms[j]] = j"
   ]
  },
  {
   "cell_type": "code",
   "execution_count": 91,
   "metadata": {
    "collapsed": false
   },
   "outputs": [
    {
     "name": "stdout",
     "output_type": "stream",
     "text": [
      "['PF00001', 'PF00002', 'PF00003', 'PF00004', 'PF00005', 'PF00006', 'PF00007', 'PF00008', 'PF00009', 'PF00010']\n",
      "3\n"
     ]
    }
   ],
   "source": [
    "print features[0:10]\n",
    "print featuresInd['PF00004']\n",
    "# print featuresInd"
   ]
  },
  {
   "cell_type": "code",
   "execution_count": 34,
   "metadata": {
    "collapsed": false
   },
   "outputs": [],
   "source": [
    "formattedData = {x : {\"features\" : [0]*len(features), \"16S\" : 0, \"genomeLength\" : 0} for x in organisms}\n",
    "\n",
    "for o in organisms:\n",
    "    for f in data[o][\"functions\"]:\n",
    "        formattedData[o][\"features\"][featuresInd[f]] += 1\n",
    "    formattedData[o][\"16S\"] = data[o][\"16S\"]\n",
    "    formattedData[o][\"genomeLength\"] = data[o][\"genomeLength\"]/1000000.0"
   ]
  },
  {
   "cell_type": "code",
   "execution_count": 51,
   "metadata": {
    "collapsed": false
   },
   "outputs": [
    {
     "name": "stdout",
     "output_type": "stream",
     "text": [
      "9 organisms don't have a 16S and have been removed from the data.\n"
     ]
    }
   ],
   "source": [
    "# Saving data to file - 1\n",
    "\n",
    "#Count for how many organisms don't have a 16S (to be removed from)\n",
    "j = 0\n",
    "\n",
    "# Data\n",
    "with open('./formattedData/pfam_16S_length_1206.data','w') as f:\n",
    "    for i in range(len(organisms)):\n",
    "# Removing organisms without 16S\n",
    "        if formattedData[organisms[i]][\"16S\"] != 0:\n",
    "            if formattedData[organisms[i]][\"16S\"] > 10:\n",
    "                line = [str(2)]\n",
    "            else:\n",
    "                line = [str(formattedData[organisms[i]][\"16S\"])]\n",
    "            line = line + [str(formattedData[organisms[i]][\"genomeLength\"])]\n",
    "            line = line + [str(x) for x in formattedData[organisms[i]][\"features\"]]\n",
    "            f.write('\\t'.join(line) + '\\n')\n",
    "        else:\n",
    "            j = j + 1\n",
    "print str(j) + \" organisms don't have a 16S and have been removed from the data.\""
   ]
  },
  {
   "cell_type": "code",
   "execution_count": 52,
   "metadata": {
    "collapsed": true
   },
   "outputs": [],
   "source": [
    "# Loading gr from all bacdive organisms\n",
    "gr = {}\n",
    "with open('./data/ncbi+bacdive_organisms_scaffold.singleGR.txt') as f:\n",
    "    next(f)\n",
    "    for l in f:\n",
    "        l = l.strip('\\n\\r').split('\\t')\n",
    "        gr[l[0]] = l[1]\n",
    "\n",
    "grInd = {\"1-2\" : 0, \"2-3\" : 1, \"3-7\" : 2, \"8-14\" : 3, \"10-14\" : 4, \">14\" : 5 }"
   ]
  },
  {
   "cell_type": "code",
   "execution_count": 53,
   "metadata": {
    "collapsed": false
   },
   "outputs": [],
   "source": [
    "# Saving data to file - 2\n",
    "\n",
    "# Labels\n",
    "with open('./formattedData/gr_1206.data','w') as f:\n",
    "    for i in range(len(organisms)):\n",
    "        if formattedData[organisms[i]][\"16S\"] != 0:\n",
    "            line = [ gr[organisms[i]]]\n",
    "            f.write('\\t'.join(line) + '\\n')\n",
    "# Organisms            \n",
    "with open('./formattedData/organisms_1206.data','w') as f:\n",
    "    for i in range(len(organisms)):\n",
    "        if formattedData[organisms[i]][\"16S\"] != 0:\n",
    "            f.write( organisms[i] + '\\n')       \n",
    "# Feature            \n",
    "with open('./formattedData/features_1206.name', 'w') as f:\n",
    "    f.write('16S\\ngenomeLength\\n' + '\\n'.join(features))"
   ]
  },
  {
   "cell_type": "code",
   "execution_count": 56,
   "metadata": {
    "collapsed": false
   },
   "outputs": [
    {
     "name": "stdout",
     "output_type": "stream",
     "text": [
      "['3-7\\n', '3-7\\n', '1-2\\n', '2-3\\n', '1-2\\n', '3-7\\n', '2-3\\n', '3-7\\n', '3-7\\n', '3-7\\n']\n",
      "['2', '2', '0', '1', '0', '2', '1', '2', '2', '2']\n"
     ]
    }
   ],
   "source": [
    "# Creating a levelled gr file\n",
    "gr_1206 = open('./formattedData/gr_1206.data').readlines()\n",
    "gr_levelled_1206 = [str(grInd[x.strip('\\n')]) for x in gr_1206]\n",
    "org_1206 = open('./formattedData/organisms_1206.data').readlines()\n",
    "org_1206 = [x.strip('\\n') for x in org_1206]\n",
    "\n",
    "print gr_1206[0:10]\n",
    "print gr_levelled_1206[0:10]\n",
    "\n",
    "# Saving to file\n",
    "with open('./formattedData/gr_1206.levelled.data','w') as f:\n",
    "    f.write('\\n'.join(gr_levelled_1206))\n",
    "        \n",
    "with open('./formattedData/gr_organisms_1206.levelled.data', 'w') as f:\n",
    "    for i in range(len(org_1206)):\n",
    "        f.write(gr_levelled_1206[i] + '\\t' + org_1206[i] + '\\n')"
   ]
  },
  {
   "cell_type": "code",
   "execution_count": 4,
   "metadata": {
    "collapsed": true
   },
   "outputs": [],
   "source": [
    "\n"
   ]
  },
  {
   "cell_type": "code",
   "execution_count": 48,
   "metadata": {
    "collapsed": false
   },
   "outputs": [
    {
     "name": "stdout",
     "output_type": "stream",
     "text": [
      "pelosinus sp. : 15\n",
      "streptomyces afghaniensis : 64\n"
     ]
    }
   ],
   "source": [
    "for o in formattedData.keys():\n",
    "    if formattedData[o][\"16S\"] > 10:\n",
    "        print o + ' : '+ str(formattedData[o][\"16S\"])\n"
   ]
  },
  {
   "cell_type": "code",
   "execution_count": null,
   "metadata": {
    "collapsed": true
   },
   "outputs": [],
   "source": []
  }
 ],
 "metadata": {
  "kernelspec": {
   "display_name": "Python 2",
   "language": "python",
   "name": "python2"
  },
  "language_info": {
   "codemirror_mode": {
    "name": "ipython",
    "version": 2
   },
   "file_extension": ".py",
   "mimetype": "text/x-python",
   "name": "python",
   "nbconvert_exporter": "python",
   "pygments_lexer": "ipython2",
   "version": "2.7.11"
  }
 },
 "nbformat": 4,
 "nbformat_minor": 0
}
