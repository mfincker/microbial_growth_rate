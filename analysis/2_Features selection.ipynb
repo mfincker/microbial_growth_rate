{
 "cells": [
  {
   "cell_type": "code",
   "execution_count": 12,
   "metadata": {
    "collapsed": false
   },
   "outputs": [],
   "source": [
    "import numpy as np, scipy"
   ]
  },
  {
   "cell_type": "code",
   "execution_count": 13,
   "metadata": {
    "collapsed": false
   },
   "outputs": [],
   "source": [
    "data = np.loadtxt('./formattedData/pfam_16S_length_1206.data')"
   ]
  },
  {
   "cell_type": "code",
   "execution_count": 14,
   "metadata": {
    "collapsed": true
   },
   "outputs": [],
   "source": [
    "features = open('./formattedData/features_1206.name').read().split('\\n')\n",
    "labels = np.loadtxt('./formattedData/gr_1206.levelled.data')"
   ]
  },
  {
   "cell_type": "code",
   "execution_count": 15,
   "metadata": {
    "collapsed": false
   },
   "outputs": [
    {
     "name": "stdout",
     "output_type": "stream",
     "text": [
      "(596, 14618)\n",
      "14618\n",
      "(596,)\n"
     ]
    }
   ],
   "source": [
    "print np.shape(data)\n",
    "print len(features)\n",
    "print labels.shape"
   ]
  },
  {
   "cell_type": "markdown",
   "metadata": {},
   "source": [
    "### Removing features appearing in fewer than 3 genomes"
   ]
  },
  {
   "cell_type": "code",
   "execution_count": 16,
   "metadata": {
    "collapsed": false
   },
   "outputs": [
    {
     "name": "stdout",
     "output_type": "stream",
     "text": [
      "(596, 7535)\n"
     ]
    }
   ],
   "source": [
    "data_bool = data > 0.1\n",
    "f_to_keep = sum(data_bool) >= 3\n",
    "data_filtered = data[:, f_to_keep]\n",
    "print data_filtered.shape"
   ]
  },
  {
   "cell_type": "code",
   "execution_count": 17,
   "metadata": {
    "collapsed": false
   },
   "outputs": [
    {
     "name": "stdout",
     "output_type": "stream",
     "text": [
      "7535\n"
     ]
    }
   ],
   "source": [
    "features_filtered = []\n",
    "for i in range(len(features)):\n",
    "    if f_to_keep[i]:\n",
    "        features_filtered.append(features[i])\n",
    "print len(features_filtered)"
   ]
  },
  {
   "cell_type": "code",
   "execution_count": 18,
   "metadata": {
    "collapsed": true
   },
   "outputs": [],
   "source": [
    "np.savetxt('./formattedData/pfam_16S_length_1206.filtered.data', data_filtered, delimiter='\\t')"
   ]
  },
  {
   "cell_type": "code",
   "execution_count": 19,
   "metadata": {
    "collapsed": true
   },
   "outputs": [],
   "source": [
    "with open('./formattedData/features_1206.filtered.name', 'w') as f:\n",
    "    f.write('\\n'.join(features_filtered))"
   ]
  },
  {
   "cell_type": "markdown",
   "metadata": {},
   "source": [
    "### Normalizing data"
   ]
  },
  {
   "cell_type": "code",
   "execution_count": 42,
   "metadata": {
    "collapsed": false
   },
   "outputs": [],
   "source": [
    "data_filtered_normalized = data_filtered.astype(dtype=np.float32) / data_filtered.sum(axis=0, keepdims=True)"
   ]
  },
  {
   "cell_type": "markdown",
   "metadata": {},
   "source": [
    "### Training and test sets"
   ]
  },
  {
   "cell_type": "markdown",
   "metadata": {},
   "source": [
    "training set: 90% of the dataset.\n",
    "\n",
    "test set: 10% of the dataset.\n",
    "\n",
    "I might want to randomly sample in each label levels."
   ]
  },
  {
   "cell_type": "code",
   "execution_count": 43,
   "metadata": {
    "collapsed": false
   },
   "outputs": [
    {
     "name": "stdout",
     "output_type": "stream",
     "text": [
      "Training data:\n",
      "(535, 7549)\n",
      "(535,)\n",
      "Test data:\n",
      "(70, 7549)\n",
      "(70,)\n"
     ]
    }
   ],
   "source": [
    "shuffled = np.random.permutation(data_filtered_normalized.shape[0])\n",
    "\n",
    "shuffled_data_filtered = data_filtered_normalized[shuffled,:]\n",
    "shuffled_labels = labels[shuffled]\n",
    "\n",
    "test_data = shuffled_data_filtered[:70,:]\n",
    "test_labels = shuffled_labels[:70]\n",
    "\n",
    "train_data = shuffled_data_filtered[70:,:]\n",
    "train_labels = shuffled_labels[70:]\n",
    "\n",
    "print \"Training data:\"\n",
    "print train_data.shape\n",
    "print train_labels.shape\n",
    "print \"Test data:\"\n",
    "print test_data.shape\n",
    "print test_labels.shape"
   ]
  },
  {
   "cell_type": "code",
   "execution_count": 44,
   "metadata": {
    "collapsed": false
   },
   "outputs": [],
   "source": [
    "np.savetxt('./formattedData/train.normalized.data', train_data, delimiter='\\t')\n",
    "np.savetxt('./formattedData/train.normalized.labels', train_labels, delimiter='\\t')\n",
    "np.savetxt('./formattedData/test.normalized.data', test_data, delimiter='\\t')\n",
    "np.savetxt('./formattedData/test.normalized.labels', test_labels, delimiter='\\t')"
   ]
  },
  {
   "cell_type": "markdown",
   "metadata": {
    "collapsed": true
   },
   "source": [
    "### Labels for svm"
   ]
  },
  {
   "cell_type": "code",
   "execution_count": 64,
   "metadata": {
    "collapsed": false
   },
   "outputs": [
    {
     "name": "stdout",
     "output_type": "stream",
     "text": [
      "(535,)\n",
      "(70,)\n"
     ]
    }
   ],
   "source": [
    "train_labels = np.loadtxt('./formattedData/train.normalized.labels')\n",
    "test_labels = np.loadtxt('./formattedData/test.normalized.labels')\n",
    "print train_labels.shape\n",
    "print test_labels.shape"
   ]
  },
  {
   "cell_type": "code",
   "execution_count": 65,
   "metadata": {
    "collapsed": false
   },
   "outputs": [
    {
     "name": "stdout",
     "output_type": "stream",
     "text": [
      "[ 1 -1 -1  1  1 -1  1 -1 -1 -1]\n"
     ]
    }
   ],
   "source": [
    "train_labels_0 = abs(train_labels - 0) < 0.0001\n",
    "train_labels_0 = 2*train_labels_0 - 1\n",
    "print train_labels_0[0:10]\n",
    "np.savetxt('./formattedData/train.normalized.labels.0', train_labels_0, delimiter='\\t')\n",
    "\n",
    "test_labels_0 = abs(test_labels - 0) < 0.0001\n",
    "test_labels_0 = 2*test_labels_0 - 1\n",
    "np.savetxt('./formattedData/test.normalized.labels.0', test_labels_0, delimiter='\\t')"
   ]
  },
  {
   "cell_type": "code",
   "execution_count": 66,
   "metadata": {
    "collapsed": true
   },
   "outputs": [],
   "source": [
    "train_labels_1 = abs(train_labels - 1) < 0.0001\n",
    "train_labels_1 = 2*train_labels_1 - 1\n",
    "np.savetxt('./formattedData/train.normalized.labels.1', train_labels_1, delimiter='\\t')\n",
    "\n",
    "test_labels_1 = abs(test_labels - 1) < 0.0001\n",
    "test_labels_1 = 2*test_labels_1 - 1\n",
    "np.savetxt('./formattedData/test.normalized.labels.1', test_labels_1, delimiter='\\t')"
   ]
  },
  {
   "cell_type": "code",
   "execution_count": 67,
   "metadata": {
    "collapsed": false
   },
   "outputs": [],
   "source": [
    "train_labels_2 = abs(train_labels - 2) < 0.0001\n",
    "train_labels_2 = 2*train_labels_2 - 1\n",
    "np.savetxt('./formattedData/train.normalized.labels.2', train_labels_2, delimiter='\\t')\n",
    "\n",
    "test_labels_2 = abs(test_labels - 2) < 0.0001\n",
    "test_labels_2 = 2*test_labels_2 - 1\n",
    "np.savetxt('./formattedData/test.normalized.labels.2', test_labels_2, delimiter='\\t')"
   ]
  },
  {
   "cell_type": "code",
   "execution_count": 68,
   "metadata": {
    "collapsed": false
   },
   "outputs": [],
   "source": [
    "train_labels_3 = abs(train_labels - 3) < 0.0001\n",
    "train_labels_3 = 2*train_labels_3 - 1\n",
    "np.savetxt('./formattedData/train.normalized.labels.3', train_labels_3, delimiter='\\t')\n",
    "\n",
    "test_labels_3 = abs(test_labels - 3) < 0.0001\n",
    "test_labels_3 = 2*test_labels_3 - 1\n",
    "np.savetxt('./formattedData/test.normalized.labels.3', test_labels_3, delimiter='\\t')"
   ]
  },
  {
   "cell_type": "code",
   "execution_count": 69,
   "metadata": {
    "collapsed": false
   },
   "outputs": [],
   "source": [
    "train_labels_4 = abs(train_labels - 4) < 0.0001\n",
    "train_labels_4 = 2*train_labels_4 - 1\n",
    "np.savetxt('./formattedData/train.normalized.labels.4', train_labels_4, delimiter='\\t')\n",
    "\n",
    "test_labels_4 = abs(test_labels - 4) < 0.0001\n",
    "test_labels_4 = 2*test_labels_4 - 1\n",
    "np.savetxt('./formattedData/test.normalized.labels.4', test_labels_4, delimiter='\\t')"
   ]
  },
  {
   "cell_type": "code",
   "execution_count": 70,
   "metadata": {
    "collapsed": true
   },
   "outputs": [],
   "source": [
    "train_labels_5 = abs(train_labels - 5) < 0.0001\n",
    "train_labels_5 = 2*train_labels_5 - 1\n",
    "np.savetxt('./formattedData/train.normalized.labels.5', train_labels_5, delimiter='\\t')\n",
    "\n",
    "test_labels_5 = abs(test_labels - 5) < 0.0001\n",
    "test_labels_5 = 2*test_labels_5 - 1\n",
    "np.savetxt('./formattedData/test.normalized.labels.5', test_labels_5, delimiter='\\t')"
   ]
  },
  {
   "cell_type": "code",
   "execution_count": null,
   "metadata": {
    "collapsed": true
   },
   "outputs": [],
   "source": []
  }
 ],
 "metadata": {
  "kernelspec": {
   "display_name": "Python 2",
   "language": "python",
   "name": "python2"
  },
  "language_info": {
   "codemirror_mode": {
    "name": "ipython",
    "version": 2
   },
   "file_extension": ".py",
   "mimetype": "text/x-python",
   "name": "python",
   "nbconvert_exporter": "python",
   "pygments_lexer": "ipython2",
   "version": "2.7.11"
  }
 },
 "nbformat": 4,
 "nbformat_minor": 0
}
