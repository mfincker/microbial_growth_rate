{
 "cells": [
  {
   "cell_type": "markdown",
   "metadata": {},
   "source": [
    "## Extracting incubation times from BacDive"
   ]
  },
  {
   "cell_type": "markdown",
   "metadata": {
    "collapsed": true
   },
   "source": [
    "Link to [Notebook](Incubation times and strains from BacDive.ipynb)\n",
    "\n",
    "I end up with 2312 organisms with a measured GR (growth rate)."
   ]
  },
  {
   "cell_type": "markdown",
   "metadata": {
    "collapsed": true
   },
   "source": [
    "## Matching BacDive organisms to their genome (if it is available)"
   ]
  },
  {
   "cell_type": "markdown",
   "metadata": {},
   "source": [
    "Link to [Notebook](Matching NCBI to BacDive organisms.ipynb)\n",
    "\n",
    "I end up with 783 organisms with a GR and a genome (at the scaffold level) in NCBI."
   ]
  },
  {
   "cell_type": "markdown",
   "metadata": {},
   "source": [
    "## Downloading genomes and extracting EC numbers"
   ]
  },
  {
   "cell_type": "markdown",
   "metadata": {},
   "source": [
    "I am running into the issue that most annotated proteins don't have their EC numbers...\n",
    "\n",
    "I will first extract the proteins that have an EC number.\n",
    "Then I'll try to annotate more proteins with an incomplete EC number.\n",
    "\n",
    "Link to [Notebook](Downloading genomes.ipynb)"
   ]
  },
  {
   "cell_type": "markdown",
   "metadata": {},
   "source": [
    "## Extracting and formatting observations"
   ]
  },
  {
   "cell_type": "markdown",
   "metadata": {},
   "source": [
    "I finally have 606 genomes with enough annotations (hopefully) from uniprot.\n",
    "\n",
    "Features to use:\n",
    "    \n",
    "   - genome length\n",
    "   - number of rRNA operons\n",
    "   - EC number\n",
    "   - PFAM\n",
    "   - TIGRFAMS\n",
    "   \n",
    "I am not going to use the INTERPRO numberse because I think that would add too many features.\n",
    "    \n",
    "Link to [Notebook](Features extraction.ipynb)\n"
   ]
  },
  {
   "cell_type": "markdown",
   "metadata": {},
   "source": [
    "## Feature selection"
   ]
  },
  {
   "cell_type": "markdown",
   "metadata": {},
   "source": [
    "I have TOO MANY features (~14500).\n",
    "\n",
    "As a first pass, I am only going to keep features that appear in at least 3 genomes.\n",
    "\n",
    "Link to [Notebook](Features selection.ipynb)"
   ]
  },
  {
   "cell_type": "markdown",
   "metadata": {},
   "source": [
    "## First attempts"
   ]
  },
  {
   "cell_type": "markdown",
   "metadata": {},
   "source": [
    "I have installed tensorflow and will try:\n",
    "  \n",
    "   - softmax regression\n",
    "   - svm\n",
    "   - naive bayes\n",
    "   - some kind of neural net?\n",
    "   \n",
    "With L1 regularization."
   ]
  },
  {
   "cell_type": "markdown",
   "metadata": {},
   "source": [
    "### Softmax regression"
   ]
  },
  {
   "cell_type": "code",
   "execution_count": null,
   "metadata": {
    "collapsed": true
   },
   "outputs": [],
   "source": []
  }
 ],
 "metadata": {
  "kernelspec": {
   "display_name": "Python 2",
   "language": "python",
   "name": "python2"
  },
  "language_info": {
   "codemirror_mode": {
    "name": "ipython",
    "version": 2
   },
   "file_extension": ".py",
   "mimetype": "text/x-python",
   "name": "python",
   "nbconvert_exporter": "python",
   "pygments_lexer": "ipython2",
   "version": "2.7.11"
  }
 },
 "nbformat": 4,
 "nbformat_minor": 0
}
